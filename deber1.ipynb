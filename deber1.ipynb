{
  "nbformat": 4,
  "nbformat_minor": 0,
  "metadata": {
    "colab": {
      "name": "deber1.ipynb",
      "provenance": [],
      "collapsed_sections": []
    },
    "kernelspec": {
      "name": "python3",
      "display_name": "Python 3"
    },
    "language_info": {
      "name": "python"
    }
  },
  "cells": [
    {
      "cell_type": "code",
      "execution_count": null,
      "metadata": {
        "colab": {
          "base_uri": "https://localhost:8080/"
        },
        "id": "wHR5YdTlaCOL",
        "outputId": "dfe20921-ea93-4e1e-b87a-f6a0babc8d6a"
      },
      "outputs": [
        {
          "output_type": "stream",
          "name": "stdout",
          "text": [
            "Producto de dos números\n",
            "Ingrese un número: \n",
            "2\n",
            "Ingrese otro número: \n",
            "6\n",
            "El producto es: 12.0\n"
          ]
        }
      ],
      "source": [
        "print(\"Producto de dos números\")\n",
        "print(\"Ingrese un número: \")\n",
        "numero = float(input())\n",
        "print(\"Ingrese otro número: \")\n",
        "numero2 = float(input())\n",
        "print(f\"El producto es: {numero * numero2}\")"
      ]
    }
  ]
}