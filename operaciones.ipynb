{
  "nbformat": 4,
  "nbformat_minor": 0,
  "metadata": {
    "colab": {
      "name": "operaciones.ipynb",
      "provenance": [],
      "collapsed_sections": []
    },
    "kernelspec": {
      "name": "python3",
      "display_name": "Python 3"
    },
    "language_info": {
      "name": "python"
    }
  },
  "cells": [
    {
      "cell_type": "code",
      "execution_count": 7,
      "metadata": {
        "colab": {
          "base_uri": "https://localhost:8080/"
        },
        "id": "UmiJ22moTBcB",
        "outputId": "49a2bd97-d00f-4141-a9a2-ae379ad168f9"
      },
      "outputs": [
        {
          "output_type": "stream",
          "name": "stdout",
          "text": [
            "Calculadora: \n",
            "1.Suma \n",
            "2.Resta \n",
            "3.Multiplicación \n",
            "4.Division \n",
            "5.Salir\n",
            "3\n",
            "Ingrese el primer número:\n",
            "5\n",
            "Ingrese el segundo número:\n",
            "7\n",
            "El resultado de la multiplicación es: 35.0\n",
            "Calculadora: \n",
            "1.Suma \n",
            "2.Resta \n",
            "3.Multiplicación \n",
            "4.Division \n",
            "5.Salir\n",
            "5\n",
            "Saliendo...\n"
          ]
        }
      ],
      "source": [
        "while(True):\n",
        "  print(\"Calculadora: \\n1.Suma \\n2.Resta \\n3.Multiplicación \\n4.Division \\n5.Salir\")\n",
        "  numero = float(input())\n",
        "  if(numero == 1):\n",
        "    print(\"Ingrese el primer número:\")\n",
        "    numero1 = float(input())\n",
        "    print(\"Ingrese el segundo número:\")\n",
        "    numero2 = float(input())\n",
        "    print(f\"El resultado de la suma es: {numero1 + numero2}\")\n",
        "  if(numero == 2):\n",
        "    print(\"Ingrese el primer número:\")\n",
        "    numero1 = float(input())\n",
        "    print(\"Ingrese el segundo número:\")\n",
        "    numero2 = float(input())\n",
        "    print(f\"El resultado de la resta es: {numero1 - numero2}\")\n",
        "  if(numero == 3):\n",
        "    print(\"Ingrese el primer número:\")\n",
        "    numero1 = float(input())\n",
        "    print(\"Ingrese el segundo número:\")\n",
        "    numero2 = float(input())\n",
        "    print(f\"El resultado de la multiplicación es: {numero1 * numero2}\")\n",
        "  if(numero == 4):\n",
        "    print(\"Ingrese el primer número:\")\n",
        "    numero1 = float(input())\n",
        "    print(\"Ingrese el segundo número:\")\n",
        "    numero2 = float(input())\n",
        "    print(f\"El resultado de la división es: {numero1 / numero2}\")\n",
        "  if(numero == 5):\n",
        "    print(\"Saliendo...\")\n",
        "    break"
      ]
    }
  ]
}